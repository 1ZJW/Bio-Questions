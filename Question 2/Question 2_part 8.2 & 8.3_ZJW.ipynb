{
 "cells": [
  {
   "cell_type": "markdown",
   "id": "040da48e",
   "metadata": {},
   "source": [
    "### Question 2: Part 8.2"
   ]
  },
  {
   "cell_type": "markdown",
   "id": "603d61c2",
   "metadata": {},
   "source": [
    "Based on the condition given by question 8.2, we know that: \n",
    "\n",
    "    s(0)=10,e(0)=1,c(0)=0,p(0)=0\n",
    "\n",
    "And the rate constant k1, k2, k3 µm/min is given by the question:\n",
    "\n",
    "    k1=100,k2=600,k3=150"
   ]
  },
  {
   "cell_type": "code",
   "execution_count": 1,
   "id": "da04c48d",
   "metadata": {},
   "outputs": [],
   "source": [
    "import matplotlib.pyplot as plt\n",
    "import numpy as np\n",
    "\n",
    "# Initial\n",
    "c0 = 0      # From question 8.2\n",
    "p0 = 0      # From question 8.2\n",
    "e0 = 1      # initial concentration of E: 1 μm\n",
    "s0 = 10     # initial concentration of S: 10 μm\n",
    "\n",
    "# rate µm/min\n",
    "k1 = 100    \n",
    "k2 = 600    \n",
    "k3 = 150\n",
    "\n",
    "Km = (k2+k3)/k1      # Formula get from question 8.1"
   ]
  },
  {
   "cell_type": "code",
   "execution_count": 2,
   "id": "ec78c4d3",
   "metadata": {},
   "outputs": [],
   "source": [
    "# Init arrays\n",
    "h = 0.001       # set to 0.001\n",
    "t = np.linspace(0, 0.5, 501)   # time: set to 0-0.5 min\n",
    "s = np.zeros(501)\n",
    "s[0] = s0"
   ]
  },
  {
   "cell_type": "code",
   "execution_count": 3,
   "id": "5f23ed65",
   "metadata": {},
   "outputs": [],
   "source": [
    "# X indicates t, Y indicates s"
   ]
  },
  {
   "cell_type": "code",
   "execution_count": 4,
   "id": "4fde1575",
   "metadata": {},
   "outputs": [],
   "source": [
    "# Define the function(the right side of equation(10))\n",
    "\n",
    "# X indicates t, Y indicates s\n",
    "\n",
    "def function(X,Y):\n",
    "    f = -1*(k3*e0*Y)/(Y+Km)\n",
    "    return f"
   ]
  },
  {
   "cell_type": "markdown",
   "id": "6f1160d0",
   "metadata": {},
   "source": [
    "According to the formula on research of Illinois Institute of Technology:\n",
    "\n",
    "http://www.math.iit.edu/~fass/478578_Chapter_3.pdf"
   ]
  },
  {
   "cell_type": "code",
   "execution_count": 5,
   "id": "2a2bcc97",
   "metadata": {},
   "outputs": [],
   "source": [
    "# Use fourth-order Runge-Kutta method to compute s\n",
    "\n",
    "for i in range(0, 500):\n",
    "    k_1 = function(t[i], s[i])\n",
    "    k_2 = function(t[i]+0.5*h, s[i]+0.5*k_1*h)\n",
    "    k_3 = function(t[i]+0.5*h, s[i]+0.5*k_2*h)\n",
    "    k_4 = function(t[i]+h, s[i]+k_3*h)\n",
    "    s[i+1] = s[i]+h*(k_1+2*k_2+2*k_3+k_4)/6"
   ]
  },
  {
   "cell_type": "code",
   "execution_count": 6,
   "id": "a7f3ea8b",
   "metadata": {},
   "outputs": [],
   "source": [
    "# Compute c by equation(9)\n",
    "\n",
    "c = np.zeros(501)\n",
    "for i in range(1, 501):\n",
    "    c[i] = (e0*s[i])/(s[i]+Km)"
   ]
  },
  {
   "cell_type": "code",
   "execution_count": 7,
   "id": "1fc816c1",
   "metadata": {},
   "outputs": [],
   "source": [
    "# Compute e by equation(6)\n",
    "\n",
    "e = np.zeros(501)\n",
    "for i in range(0, 501):\n",
    "    e[i] = e0-c[i]"
   ]
  },
  {
   "cell_type": "code",
   "execution_count": 8,
   "id": "dd0fb31c",
   "metadata": {},
   "outputs": [],
   "source": [
    "# Compute V by equation(5) and use integral to compute p\n",
    "\n",
    "V = np.zeros(501)\n",
    "for i in range(0, 501):\n",
    "    V[i] = k3*c[i]\n",
    "    \n",
    "p = np.zeros(501)\n",
    "for i in range(0, 501):\n",
    "    p[i] = k3*sum(c[0:i])*h"
   ]
  },
  {
   "cell_type": "code",
   "execution_count": 9,
   "id": "4b110cb3",
   "metadata": {
    "scrolled": true
   },
   "outputs": [
    {
     "data": {
      "image/png": "[encoded data removed]",
      "text/plain": [
       "<Figure size 640x480 with 1 Axes>"
      ]
     },
     "metadata": {},
     "output_type": "display_data"
    }
   ],
   "source": [
    "# Plot mass of species as a function time in a picture\n",
    "\n",
    "plt.figure()\n",
    "plt.plot(t,s,color='black')\n",
    "plt.plot(t,c,color='blue')\n",
    "plt.plot(t,e,color='purple')\n",
    "plt.plot(t,p,color='red')\n",
    "plt.show()"
   ]
  },
  {
   "cell_type": "markdown",
   "id": "10ddd743",
   "metadata": {},
   "source": [
    "Reference\n",
    "\n",
    "Illinois Institute of Technology. 3 Runge-Kutta Methods, Illinois Institute of Technology, 20 Feb. 2007, http://math.iit.edu/~fass/478578_Chapter_3.pdf."
   ]
  },
  {
   "cell_type": "markdown",
   "id": "69d6994f",
   "metadata": {},
   "source": [
    "### Question 2: Part 8.3"
   ]
  },
  {
   "cell_type": "markdown",
   "id": "fa091242",
   "metadata": {},
   "source": [
    "According to the question, velocity V is the rate of change of the product P.\n",
    "\n",
    "So we get:\n",
    "\n",
    "V =  dp/dt  = k3*c"
   ]
  },
  {
   "cell_type": "code",
   "execution_count": 12,
   "id": "ba0b7fe2",
   "metadata": {},
   "outputs": [],
   "source": [
    "V = np.zeros(501)\n",
    "for i in range(0, 501):\n",
    "    V[i] = k3*c[i]"
   ]
  },
  {
   "cell_type": "code",
   "execution_count": 13,
   "id": "92b03606",
   "metadata": {
    "scrolled": true
   },
   "outputs": [
    {
     "data": {
      "image/png": "[encoded data removed]",
      "text/plain": [
       "<Figure size 640x480 with 1 Axes>"
      ]
     },
     "metadata": {},
     "output_type": "display_data"
    }
   ],
   "source": [
    "plt.figure()\n",
    "plt.xlabel(\"Concentration of S\")\n",
    "plt.ylabel(\"Rate V\")\n",
    "plt.plot(s[1:500],V[1:500])\n",
    "plt.show()"
   ]
  },
  {
   "cell_type": "markdown",
   "id": "e2567aad",
   "metadata": {},
   "source": [
    "From the graph, we can observe that when the concentrations of S are small, the velocity V increases approximately linearly. Especially when concentration of S is less than 0.5.\n",
    "\n",
    "From the trend of the data line, we can see that velocity V saturates to a maximum value Vm around 90µM/min."
   ]
  },
  {
   "cell_type": "code",
   "execution_count": null,
   "id": "0f830406",
   "metadata": {},
   "outputs": [],
   "source": []
  },
  {
   "cell_type": "code",
   "execution_count": null,
   "id": "6b57be12",
   "metadata": {},
   "outputs": [],
   "source": []
  },
  {
   "cell_type": "code",
   "execution_count": null,
   "id": "a14f6077",
   "metadata": {},
   "outputs": [],
   "source": []
  }
 ],
 "metadata": {
  "kernelspec": {
   "display_name": "Python 3 (ipykernel)",
   "language": "python",
   "name": "python3"
  },
  "language_info": {
   "codemirror_mode": {
    "name": "ipython",
    "version": 3
   },
   "file_extension": ".py",
   "mimetype": "text/x-python",
   "name": "python",
   "nbconvert_exporter": "python",
   "pygments_lexer": "ipython3",
   "version": "3.8.13"
  }
 },
 "nbformat": 4,
 "nbformat_minor": 5
}
